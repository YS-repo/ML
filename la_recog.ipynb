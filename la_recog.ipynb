{
  "nbformat": 4,
  "nbformat_minor": 0,
  "metadata": {
    "colab": {
      "provenance": []
    },
    "kernelspec": {
      "name": "python3",
      "display_name": "Python 3"
    },
    "language_info": {
      "name": "python"
    },
    "accelerator": "GPU",
    "gpuClass": "standard"
  },
  "cells": [
    {
      "cell_type": "code",
      "execution_count": 1,
      "metadata": {
        "id": "vviOtItQy7a9"
      },
      "outputs": [],
      "source": [
        "import os\n",
        "import cv2\n",
        "import numpy as np\n",
        "import nibabel as nib\n",
        "import matplotlib.pyplot as plt\n",
        "import tensorflow as tf\n",
        "from tensorflow import keras\n",
        "from tensorflow.keras import layers\n",
        "from keras.layers import *\n",
        "import keras.backend as k\n",
        "from keras.models import *\n",
        "from keras.optimizers import *\n",
        "from keras.losses import categorical_crossentropy\n",
        "from keras.callbacks import ModelCheckpoint, LearningRateScheduler, EarlyStopping"
      ]
    },
    {
      "cell_type": "markdown",
      "source": [
        "##Mounting google Drive"
      ],
      "metadata": {
        "id": "HDtCe0AYZdU-"
      }
    },
    {
      "cell_type": "code",
      "source": [
        "from google.colab import drive\n",
        "drive.mount('/content/drive')"
      ],
      "metadata": {
        "colab": {
          "base_uri": "https://localhost:8080/"
        },
        "id": "e6DrYBYzONOm",
        "outputId": "f866188a-dc20-4750-d356-b33c8072b300"
      },
      "execution_count": 2,
      "outputs": [
        {
          "output_type": "stream",
          "name": "stdout",
          "text": [
            "Mounted at /content/drive\n"
          ]
        }
      ]
    },
    {
      "cell_type": "markdown",
      "source": [
        "##Setting paths"
      ],
      "metadata": {
        "id": "Dtl_2e_P1gaM"
      }
    },
    {
      "cell_type": "code",
      "source": [
        "train_imgs_pth = '/content/drive/MyDrive/heart_data/imagesTr'\n",
        "test_pth = '/content/drive/MyDrive/heart_data/imagesTs'\n",
        "train_lbs_pth = '/content/drive/MyDrive/heart_data/labelsTr'"
      ],
      "metadata": {
        "id": "vCo0uQfDzoTK"
      },
      "execution_count": 3,
      "outputs": []
    },
    {
      "cell_type": "markdown",
      "source": [
        "##Extracting each batch (We extract these pictures from NITFI files)"
      ],
      "metadata": {
        "id": "LEJSwQHR1lPZ"
      }
    },
    {
      "cell_type": "code",
      "source": [
        "TR_List = sorted(os.listdir(train_imgs_pth))\n",
        "Lb_List = sorted(os.listdir(train_lbs_pth))\n",
        "TST_List = os.listdir(test_pth)\n",
        "train_images_batch = []\n",
        "train_labels_batch = []\n",
        "test_images_batch = []\n",
        "for i in TR_List:\n",
        "    img_path = os.path.join(train_imgs_pth, i)\n",
        "    img = nib.load(img_path)\n",
        "    train_images_batch.append(img)\n",
        "for j in Lb_List:\n",
        "    lbl_path = os.path.join(train_lbs_pth, j)\n",
        "    lbl = nib.load(lbl_path)\n",
        "    train_labels_batch.append(lbl)\n",
        "for k in TST_List:\n",
        "    test_path = os.path.join(test_pth, k)\n",
        "    test = nib.load(test_path)\n",
        "    test_images_batch.append(test)\n",
        "\n",
        "print(f'{len(train_images_batch)} train images Batch loaded successfully.')\n",
        "print(f'{len(train_labels_batch)} train labels Batch loaded successfully.')\n",
        "print(f'{len(test_images_batch)} test images Batch loaded successfully.')"
      ],
      "metadata": {
        "colab": {
          "base_uri": "https://localhost:8080/"
        },
        "id": "4ieJ98Ysz7-W",
        "outputId": "c1f509ca-0e9f-441c-ab65-d94a02852d03"
      },
      "execution_count": 4,
      "outputs": [
        {
          "output_type": "stream",
          "name": "stdout",
          "text": [
            "20 train images Batch loaded successfully.\n",
            "20 train labels Batch loaded successfully.\n",
            "10 test images Batch loaded successfully.\n"
          ]
        }
      ]
    },
    {
      "cell_type": "markdown",
      "source": [
        "### Extracting Each Batch's Data"
      ],
      "metadata": {
        "id": "bxjFIvFy1W_b"
      }
    },
    {
      "cell_type": "code",
      "source": [
        "X_Train = []\n",
        "Y_Train = []\n",
        "X_Test = []\n",
        "\n",
        "for i in range(len(train_images_batch)):\n",
        "  im = train_images_batch[i]\n",
        "  lb = train_labels_batch[i]\n",
        "  for j in range(im.shape[-1]):\n",
        "    img_show = im.get_fdata()[:,:,j]\n",
        "    lbl_show = lb.get_fdata()[:,:,j]\n",
        "    X_Train.append(img_show)\n",
        "    Y_Train.append(lbl_show)"
      ],
      "metadata": {
        "id": "9jcxjq8H0WsP"
      },
      "execution_count": 5,
      "outputs": []
    },
    {
      "cell_type": "markdown",
      "source": [
        "##Checking if each batch has equall number of images and ground truth (No missing data)"
      ],
      "metadata": {
        "id": "rW5XUQkaapUt"
      }
    },
    {
      "cell_type": "code",
      "source": [
        "for i in range(len(train_images_batch)):\n",
        "  print(f'batch number {i} ===> img {np.shape(train_images_batch[i])[-1]}  \\   {np.shape(train_labels_batch[i])[-1]}')\n"
      ],
      "metadata": {
        "id": "8tOFU1_J5BlR",
        "colab": {
          "base_uri": "https://localhost:8080/"
        },
        "outputId": "0d7e4dd5-8c17-4ca4-fedb-e12fe978979c"
      },
      "execution_count": 6,
      "outputs": [
        {
          "output_type": "stream",
          "name": "stdout",
          "text": [
            "batch number 0 ===> img 130  \\   130\n",
            "batch number 1 ===> img 110  \\   110\n",
            "batch number 2 ===> img 120  \\   120\n",
            "batch number 3 ===> img 130  \\   130\n",
            "batch number 4 ===> img 100  \\   100\n",
            "batch number 5 ===> img 120  \\   120\n",
            "batch number 6 ===> img 120  \\   120\n",
            "batch number 7 ===> img 120  \\   120\n",
            "batch number 8 ===> img 90  \\   90\n",
            "batch number 9 ===> img 120  \\   120\n",
            "batch number 10 ===> img 122  \\   122\n",
            "batch number 11 ===> img 100  \\   100\n",
            "batch number 12 ===> img 110  \\   110\n",
            "batch number 13 ===> img 100  \\   100\n",
            "batch number 14 ===> img 110  \\   110\n",
            "batch number 15 ===> img 110  \\   110\n",
            "batch number 16 ===> img 120  \\   120\n",
            "batch number 17 ===> img 120  \\   120\n",
            "batch number 18 ===> img 109  \\   109\n",
            "batch number 19 ===> img 110  \\   110\n"
          ]
        }
      ]
    },
    {
      "cell_type": "markdown",
      "source": [
        "##Extracting Test Data"
      ],
      "metadata": {
        "id": "zw1IlKPfa3Qm"
      }
    },
    {
      "cell_type": "code",
      "source": [
        "for k in range(len(test_images_batch)):\n",
        "  tst_img = test_images_batch[k]\n",
        "  for l in range(tst_img.shape[-1]):\n",
        "    tst_show = tst_img.get_fdata()[:,:,l]\n",
        "    X_Test.append(tst_show)"
      ],
      "metadata": {
        "id": "n2CzHWRD3sSQ"
      },
      "execution_count": 7,
      "outputs": []
    },
    {
      "cell_type": "code",
      "source": [
        "print(f'Number of Train images : {np.shape(X_Train)[0]}\\nNumber of Train Labels : {np.shape(Y_Train)[0]}\\nNumber of Test Labels : {np.shape(X_Test)[0]}')"
      ],
      "metadata": {
        "colab": {
          "base_uri": "https://localhost:8080/"
        },
        "id": "BIgzYkKi8Aqe",
        "outputId": "6d02f657-2ff9-487c-f153-a475a0ad892a"
      },
      "execution_count": 8,
      "outputs": [
        {
          "output_type": "stream",
          "name": "stdout",
          "text": [
            "Number of Train images : 2271\n",
            "Number of Train Labels : 2271\n",
            "Number of Test Labels : 1297\n"
          ]
        },
        {
          "output_type": "stream",
          "name": "stderr",
          "text": [
            "/usr/local/lib/python3.8/dist-packages/numpy/core/fromnumeric.py:2007: VisibleDeprecationWarning: Creating an ndarray from ragged nested sequences (which is a list-or-tuple of lists-or-tuples-or ndarrays with different lengths or shapes) is deprecated. If you meant to do this, you must specify 'dtype=object' when creating the ndarray.\n",
            "  result = asarray(a).shape\n"
          ]
        }
      ]
    },
    {
      "cell_type": "markdown",
      "source": [
        "##Function for implementing data augmentation"
      ],
      "metadata": {
        "id": "LuasLjrZbH7u"
      }
    },
    {
      "cell_type": "code",
      "source": [
        "def augment(input_image, input_mask):\n",
        "   if tf.random.uniform(()) > 0.5:\n",
        "       # Random flipping of the image and mask\n",
        "       input_image = tf.image.flip_left_right(input_image)\n",
        "       input_mask = tf.image.flip_left_right(input_mask)\n",
        "   return input_image, input_mask"
      ],
      "metadata": {
        "id": "zCLZAy1i8D9O"
      },
      "execution_count": 9,
      "outputs": []
    },
    {
      "cell_type": "markdown",
      "source": [
        "##Preprocessing Function"
      ],
      "metadata": {
        "id": "Sr5MXzagbOe_"
      }
    },
    {
      "cell_type": "code",
      "source": [
        "size = 256\n",
        "def preprocessing(input_tensor, Type):\n",
        "  if Type.lower() == 'img':   # checking if input_tensor is an image\n",
        "    casted = cv2.resize(input_tensor, (size, size))\n",
        "    c_type = casted.astype('float')\n",
        "    final = c_type/np.max(c_type)\n",
        "\n",
        "  elif Type.lower() == 'lbl':   # checking if input_tensor is a ground truth\n",
        "    casted = cv2.resize(input_tensor, (size, size))\n",
        "    final = casted\n",
        "  return final\n"
      ],
      "metadata": {
        "id": "1w9KGSvRAR54"
      },
      "execution_count": 10,
      "outputs": []
    },
    {
      "cell_type": "markdown",
      "source": [
        "### PreProcessing Images and Labels"
      ],
      "metadata": {
        "id": "YKzOjtshCwxV"
      }
    },
    {
      "cell_type": "code",
      "source": [
        "Train_images = []\n",
        "Train_masks = []\n",
        "Test_images = []\n",
        "\n",
        "for i in range(np.shape(X_Train)[0]):\n",
        "  p_im = preprocessing(X_Train[i], 'img')\n",
        "  p_lb = preprocessing(Y_Train[i], 'lbl')\n",
        "  # import pdb; pdb.set_trace()\n",
        "  if np.size(np.where(p_lb[:] != 0)) != 0:\n",
        "    Train_images.append(p_im)\n",
        "    Train_masks.append(p_lb)\n"
      ],
      "metadata": {
        "id": "OsdvvoMhCu5P"
      },
      "execution_count": 11,
      "outputs": []
    },
    {
      "cell_type": "markdown",
      "source": [
        "##Correcting the data dimension"
      ],
      "metadata": {
        "id": "iIGm9UVK5DOA"
      }
    },
    {
      "cell_type": "code",
      "source": [
        "Train_images = np.stack((Train_images,)*3, axis = -1)\n",
        "Train_masks = np.expand_dims(Train_masks, axis = -1)"
      ],
      "metadata": {
        "id": "rF4SAROYNtpM"
      },
      "execution_count": 12,
      "outputs": []
    },
    {
      "cell_type": "code",
      "source": [
        "np.shape(Train_images)"
      ],
      "metadata": {
        "colab": {
          "base_uri": "https://localhost:8080/"
        },
        "id": "JCDZkXchb3ZR",
        "outputId": "26479dd9-3e75-4784-fe2f-719c2b72cd5c"
      },
      "execution_count": 13,
      "outputs": [
        {
          "output_type": "execute_result",
          "data": {
            "text/plain": [
              "(1351, 256, 256, 3)"
            ]
          },
          "metadata": {},
          "execution_count": 13
        }
      ]
    },
    {
      "cell_type": "code",
      "source": [
        "np.shape(Train_masks)"
      ],
      "metadata": {
        "colab": {
          "base_uri": "https://localhost:8080/"
        },
        "id": "_TTM9eeIbblx",
        "outputId": "a5a611f0-276c-4032-a624-f02ea10e6121"
      },
      "execution_count": null,
      "outputs": [
        {
          "output_type": "execute_result",
          "data": {
            "text/plain": [
              "(1351, 256, 256, 1)"
            ]
          },
          "metadata": {},
          "execution_count": 12
        }
      ]
    },
    {
      "cell_type": "markdown",
      "source": [
        "##Defining and Creating UNet Model"
      ],
      "metadata": {
        "id": "DUR4tyis5W40"
      }
    },
    {
      "cell_type": "code",
      "source": [
        "IMG_HEIGHT = 256\n",
        "IMG_WIDTH = 256\n",
        "IMG_CHANNELS = 3\n",
        "def U_Net_Segmentation(input_size=(IMG_HEIGHT, IMG_WIDTH, IMG_CHANNELS)):\n",
        "    \n",
        "    inputs = Input(input_size)\n",
        "    # n = Lambda(lambda x:x/255)(inputs)\n",
        "    \n",
        "    \n",
        "    c1 = Conv2D(16, (3,3), activation='elu', kernel_initializer='he_normal',\n",
        "                padding='same')(inputs)\n",
        "    c1 = Dropout(0.1)(c1)\n",
        "    c1 = Conv2D(16, (3,3), activation='elu', kernel_initializer='he_normal',\n",
        "                padding='same')(c1)\n",
        "    p1 = MaxPooling2D((2,2))(c1)\n",
        "\n",
        "\n",
        "    c2 = Conv2D(32, (3,3), activation='elu', kernel_initializer='he_normal',\n",
        "                padding='same')(p1)\n",
        "    c2 = Dropout(0.1)(c2)\n",
        "    c2 = Conv2D(32, (3,3), activation='elu', kernel_initializer='he_normal',\n",
        "                padding='same')(c2)\n",
        "    p2 = MaxPooling2D((2,2))(c2)\n",
        "\n",
        "\n",
        "    c3 = Conv2D(64, (3,3), activation='elu', kernel_initializer='he_normal',\n",
        "                padding='same')(p2)\n",
        "    c3 = Dropout(0.2)(c3)\n",
        "    c3 = Conv2D(64, (3,3), activation='elu', kernel_initializer='he_normal',\n",
        "                padding='same')(c3)\n",
        "    p3 = MaxPooling2D((2,2))(c3)\n",
        "\n",
        "\n",
        "    c4 = Conv2D(128, (3,3), activation='elu', kernel_initializer='he_normal',\n",
        "                padding='same')(p3)\n",
        "    c4 = Dropout(0.2)(c4)\n",
        "    c4 = Conv2D(128, (3,3), activation='elu', kernel_initializer='he_normal',\n",
        "                padding='same')(c4)\n",
        "    p4 = MaxPooling2D((2,2))(c4)\n",
        "\n",
        "\n",
        "    c5 = Conv2D(256, (3,3), activation='elu', kernel_initializer='he_normal',\n",
        "                padding='same')(p4)\n",
        "    c5 = Dropout(0.3)(c5)\n",
        "    c5 = Conv2D(256, (3,3), activation='elu', kernel_initializer='he_normal',\n",
        "                padding='same')(c5)\n",
        "\n",
        "\n",
        "\n",
        "    u6 = Conv2DTranspose(128, (2,2), strides=(2,2), padding='same')(c5)\n",
        "    u6 = concatenate([u6, c4])\n",
        "    c6 = Conv2D(128, (3,3), activation='elu', kernel_initializer='he_normal',\n",
        "                padding='same')(u6)\n",
        "    c6 = Dropout(0.2)(c6)\n",
        "    c6 = Conv2D(128, (3,3), activation='elu', kernel_initializer='he_normal',\n",
        "                padding='same')(c6)   \n",
        "\n",
        "\n",
        "    u7 = Conv2DTranspose(64, (2,2), strides=(2,2), padding='same')(c6)\n",
        "    u7 = concatenate([u7, c3])\n",
        "    c7 = Conv2D(64, (3,3), activation='elu', kernel_initializer='he_normal',\n",
        "                padding='same')(u7)\n",
        "    c7 = Dropout(0.2)(c7)\n",
        "    c7 = Conv2D(64, (3,3), activation='elu', kernel_initializer='he_normal',\n",
        "                padding='same')(c7) \n",
        "\n",
        "    u8 = Conv2DTranspose(32, (2,2), strides=(2,2), padding='same')(c7)\n",
        "    u8 = concatenate([u8, c2])\n",
        "    c8 = Conv2D(32, (3,3), activation='elu', kernel_initializer='he_normal',\n",
        "                padding='same')(u8)\n",
        "    c8 = Dropout(0.1)(c8)\n",
        "    c8 = Conv2D(32, (3,3), activation='elu', kernel_initializer='he_normal',\n",
        "                padding='same')(c8) \n",
        "    \n",
        "    \n",
        "    u9 = Conv2DTranspose(16, (2,2), strides=(2,2), padding='same')(c8)\n",
        "    u9 = concatenate([u9, c1], axis = 3)\n",
        "    c9 = Conv2D(16, (3,3), activation='elu', kernel_initializer='he_normal',\n",
        "                padding='same')(u9)\n",
        "    c9 = Dropout(0.1)(c9)\n",
        "    c9 = Conv2D(16, (3,3), activation='elu', kernel_initializer='he_normal',\n",
        "                padding='same')(c9) \n",
        "    \n",
        "    outputs = Conv2D(1,(1,1), activation='sigmoid')(c9)\n",
        "    \n",
        "    model = Model(inputs=[inputs], outputs=[outputs])\n",
        "    model.compile(optimizer='adam', loss='binary_crossentropy', \n",
        "                  metrics=[tf.keras.metrics.BinaryIoU(target_class_ids = [0, 1])])\n",
        "    model.summary()\n",
        "    return model"
      ],
      "metadata": {
        "id": "TK4SJfQN-LUS"
      },
      "execution_count": 14,
      "outputs": []
    },
    {
      "cell_type": "code",
      "source": [
        "model = U_Net_Segmentation()"
      ],
      "metadata": {
        "id": "H5mslrTu_r3x",
        "colab": {
          "base_uri": "https://localhost:8080/"
        },
        "outputId": "5f398f67-ec2c-4abf-9958-7fe608f847ca"
      },
      "execution_count": 15,
      "outputs": [
        {
          "output_type": "stream",
          "name": "stdout",
          "text": [
            "Model: \"model\"\n",
            "__________________________________________________________________________________________________\n",
            " Layer (type)                   Output Shape         Param #     Connected to                     \n",
            "==================================================================================================\n",
            " input_1 (InputLayer)           [(None, 256, 256, 3  0           []                               \n",
            "                                )]                                                                \n",
            "                                                                                                  \n",
            " conv2d (Conv2D)                (None, 256, 256, 16  448         ['input_1[0][0]']                \n",
            "                                )                                                                 \n",
            "                                                                                                  \n",
            " dropout (Dropout)              (None, 256, 256, 16  0           ['conv2d[0][0]']                 \n",
            "                                )                                                                 \n",
            "                                                                                                  \n",
            " conv2d_1 (Conv2D)              (None, 256, 256, 16  2320        ['dropout[0][0]']                \n",
            "                                )                                                                 \n",
            "                                                                                                  \n",
            " max_pooling2d (MaxPooling2D)   (None, 128, 128, 16  0           ['conv2d_1[0][0]']               \n",
            "                                )                                                                 \n",
            "                                                                                                  \n",
            " conv2d_2 (Conv2D)              (None, 128, 128, 32  4640        ['max_pooling2d[0][0]']          \n",
            "                                )                                                                 \n",
            "                                                                                                  \n",
            " dropout_1 (Dropout)            (None, 128, 128, 32  0           ['conv2d_2[0][0]']               \n",
            "                                )                                                                 \n",
            "                                                                                                  \n",
            " conv2d_3 (Conv2D)              (None, 128, 128, 32  9248        ['dropout_1[0][0]']              \n",
            "                                )                                                                 \n",
            "                                                                                                  \n",
            " max_pooling2d_1 (MaxPooling2D)  (None, 64, 64, 32)  0           ['conv2d_3[0][0]']               \n",
            "                                                                                                  \n",
            " conv2d_4 (Conv2D)              (None, 64, 64, 64)   18496       ['max_pooling2d_1[0][0]']        \n",
            "                                                                                                  \n",
            " dropout_2 (Dropout)            (None, 64, 64, 64)   0           ['conv2d_4[0][0]']               \n",
            "                                                                                                  \n",
            " conv2d_5 (Conv2D)              (None, 64, 64, 64)   36928       ['dropout_2[0][0]']              \n",
            "                                                                                                  \n",
            " max_pooling2d_2 (MaxPooling2D)  (None, 32, 32, 64)  0           ['conv2d_5[0][0]']               \n",
            "                                                                                                  \n",
            " conv2d_6 (Conv2D)              (None, 32, 32, 128)  73856       ['max_pooling2d_2[0][0]']        \n",
            "                                                                                                  \n",
            " dropout_3 (Dropout)            (None, 32, 32, 128)  0           ['conv2d_6[0][0]']               \n",
            "                                                                                                  \n",
            " conv2d_7 (Conv2D)              (None, 32, 32, 128)  147584      ['dropout_3[0][0]']              \n",
            "                                                                                                  \n",
            " max_pooling2d_3 (MaxPooling2D)  (None, 16, 16, 128)  0          ['conv2d_7[0][0]']               \n",
            "                                                                                                  \n",
            " conv2d_8 (Conv2D)              (None, 16, 16, 256)  295168      ['max_pooling2d_3[0][0]']        \n",
            "                                                                                                  \n",
            " dropout_4 (Dropout)            (None, 16, 16, 256)  0           ['conv2d_8[0][0]']               \n",
            "                                                                                                  \n",
            " conv2d_9 (Conv2D)              (None, 16, 16, 256)  590080      ['dropout_4[0][0]']              \n",
            "                                                                                                  \n",
            " conv2d_transpose (Conv2DTransp  (None, 32, 32, 128)  131200     ['conv2d_9[0][0]']               \n",
            " ose)                                                                                             \n",
            "                                                                                                  \n",
            " concatenate (Concatenate)      (None, 32, 32, 256)  0           ['conv2d_transpose[0][0]',       \n",
            "                                                                  'conv2d_7[0][0]']               \n",
            "                                                                                                  \n",
            " conv2d_10 (Conv2D)             (None, 32, 32, 128)  295040      ['concatenate[0][0]']            \n",
            "                                                                                                  \n",
            " dropout_5 (Dropout)            (None, 32, 32, 128)  0           ['conv2d_10[0][0]']              \n",
            "                                                                                                  \n",
            " conv2d_11 (Conv2D)             (None, 32, 32, 128)  147584      ['dropout_5[0][0]']              \n",
            "                                                                                                  \n",
            " conv2d_transpose_1 (Conv2DTran  (None, 64, 64, 64)  32832       ['conv2d_11[0][0]']              \n",
            " spose)                                                                                           \n",
            "                                                                                                  \n",
            " concatenate_1 (Concatenate)    (None, 64, 64, 128)  0           ['conv2d_transpose_1[0][0]',     \n",
            "                                                                  'conv2d_5[0][0]']               \n",
            "                                                                                                  \n",
            " conv2d_12 (Conv2D)             (None, 64, 64, 64)   73792       ['concatenate_1[0][0]']          \n",
            "                                                                                                  \n",
            " dropout_6 (Dropout)            (None, 64, 64, 64)   0           ['conv2d_12[0][0]']              \n",
            "                                                                                                  \n",
            " conv2d_13 (Conv2D)             (None, 64, 64, 64)   36928       ['dropout_6[0][0]']              \n",
            "                                                                                                  \n",
            " conv2d_transpose_2 (Conv2DTran  (None, 128, 128, 32  8224       ['conv2d_13[0][0]']              \n",
            " spose)                         )                                                                 \n",
            "                                                                                                  \n",
            " concatenate_2 (Concatenate)    (None, 128, 128, 64  0           ['conv2d_transpose_2[0][0]',     \n",
            "                                )                                 'conv2d_3[0][0]']               \n",
            "                                                                                                  \n",
            " conv2d_14 (Conv2D)             (None, 128, 128, 32  18464       ['concatenate_2[0][0]']          \n",
            "                                )                                                                 \n",
            "                                                                                                  \n",
            " dropout_7 (Dropout)            (None, 128, 128, 32  0           ['conv2d_14[0][0]']              \n",
            "                                )                                                                 \n",
            "                                                                                                  \n",
            " conv2d_15 (Conv2D)             (None, 128, 128, 32  9248        ['dropout_7[0][0]']              \n",
            "                                )                                                                 \n",
            "                                                                                                  \n",
            " conv2d_transpose_3 (Conv2DTran  (None, 256, 256, 16  2064       ['conv2d_15[0][0]']              \n",
            " spose)                         )                                                                 \n",
            "                                                                                                  \n",
            " concatenate_3 (Concatenate)    (None, 256, 256, 32  0           ['conv2d_transpose_3[0][0]',     \n",
            "                                )                                 'conv2d_1[0][0]']               \n",
            "                                                                                                  \n",
            " conv2d_16 (Conv2D)             (None, 256, 256, 16  4624        ['concatenate_3[0][0]']          \n",
            "                                )                                                                 \n",
            "                                                                                                  \n",
            " dropout_8 (Dropout)            (None, 256, 256, 16  0           ['conv2d_16[0][0]']              \n",
            "                                )                                                                 \n",
            "                                                                                                  \n",
            " conv2d_17 (Conv2D)             (None, 256, 256, 16  2320        ['dropout_8[0][0]']              \n",
            "                                )                                                                 \n",
            "                                                                                                  \n",
            " conv2d_18 (Conv2D)             (None, 256, 256, 1)  17          ['conv2d_17[0][0]']              \n",
            "                                                                                                  \n",
            "==================================================================================================\n",
            "Total params: 1,941,105\n",
            "Trainable params: 1,941,105\n",
            "Non-trainable params: 0\n",
            "__________________________________________________________________________________________________\n"
          ]
        }
      ]
    },
    {
      "cell_type": "code",
      "source": [
        "imageset = 'LA'\n",
        "backbone = 'UNET'\n",
        "version = 'v1.0'\n",
        "model_h5 = 'model-{imageset}-{backbone}-{version}.h5'.format(imageset=imageset, \n",
        "                  backbone = backbone, version = version)\n",
        "model_h5_checkpoint = '{model_h5}.checkpoint'.format(model_h5=model_h5)\n",
        "\n",
        "earlystopper = EarlyStopping(patience=7, verbose=1)\n",
        "checkpointer = ModelCheckpoint('segmodel.h5', verbose = 1, save_best_only=True)"
      ],
      "metadata": {
        "id": "HfbaahfE_u_-"
      },
      "execution_count": 16,
      "outputs": []
    },
    {
      "cell_type": "markdown",
      "source": [
        "## Training"
      ],
      "metadata": {
        "id": "288q_tDB5eXB"
      }
    },
    {
      "cell_type": "code",
      "source": [
        "results = model.fit(Train_images, Train_masks, \n",
        "                    validation_split=0.1, \n",
        "                    batch_size=16,\n",
        "                    epochs=50,\n",
        "                    callbacks=[earlystopper, checkpointer])"
      ],
      "metadata": {
        "id": "uuDX_bF1GubF"
      },
      "execution_count": null,
      "outputs": []
    },
    {
      "cell_type": "markdown",
      "source": [
        "## Loading the model"
      ],
      "metadata": {
        "id": "PvsWzKo05iCg"
      }
    },
    {
      "cell_type": "code",
      "source": [
        "new_model = tf.keras.models.load_model('/content/segmodel.h5')"
      ],
      "metadata": {
        "id": "sOOfu47YKyGn"
      },
      "execution_count": null,
      "outputs": []
    },
    {
      "cell_type": "markdown",
      "source": [
        "## Preparing test images to be fed to model"
      ],
      "metadata": {
        "id": "n1c3NGAt5mV2"
      }
    },
    {
      "cell_type": "code",
      "source": [
        "Test_images = []\n",
        "\n",
        "for i in range(np.shape(X_Test)[0]):\n",
        "  if np.size(np.where(X_Test[i] != 0)) != 0:\n",
        "    p_test = preprocessing(X_Test[i], 'img')\n",
        "    Test_images.append(p_test)\n"
      ],
      "metadata": {
        "id": "iGW_bbeIKyHx"
      },
      "execution_count": 17,
      "outputs": []
    },
    {
      "cell_type": "markdown",
      "source": [
        "##Preparing Test images dimensions"
      ],
      "metadata": {
        "id": "PWKu1Q_XcZLm"
      }
    },
    {
      "cell_type": "code",
      "source": [
        "Test_images = np.stack((Test_images,)*3, axis = -1)\n",
        "np.shape(Test_images)"
      ],
      "metadata": {
        "id": "V9NpZC4oKyLp"
      },
      "execution_count": null,
      "outputs": []
    },
    {
      "cell_type": "markdown",
      "source": [
        "##Prediction on test images"
      ],
      "metadata": {
        "id": "zjfFY7fmcxFx"
      }
    },
    {
      "cell_type": "code",
      "source": [
        "test = np.expand_dims(Test_images[40], axis = 0)\n",
        "pred = new_model.predict(test)\n",
        "temp = np.squeeze(pred, axis = -1)\n",
        "output = np.squeeze(temp, axis = 0)"
      ],
      "metadata": {
        "id": "zUUrVV69YAZe",
        "colab": {
          "base_uri": "https://localhost:8080/"
        },
        "outputId": "832dd5d9-a7da-437a-b0c2-6fd4fb5aae97"
      },
      "execution_count": null,
      "outputs": [
        {
          "output_type": "stream",
          "name": "stdout",
          "text": [
            "1/1 [==============================] - 0s 53ms/step\n"
          ]
        }
      ]
    }
  ]
}